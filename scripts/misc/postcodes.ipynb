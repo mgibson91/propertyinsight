{
 "cells": [
  {
   "cell_type": "code",
   "id": "initial_id",
   "metadata": {
    "collapsed": true,
    "ExecuteTime": {
     "end_time": "2024-10-17T08:36:00.822866Z",
     "start_time": "2024-10-17T08:36:00.794825Z"
    }
   },
   "source": [
    "import re\n",
    "\n",
    "def extract_outward_code(postcode):\n",
    "    # Regular expression to match the outward part of the postcode\n",
    "    match = re.match(r'^[A-Z]{1,2}\\d{1,2}', postcode)\n",
    "    if match:\n",
    "        return match.group(0)\n",
    "    return None\n",
    "\n",
    "# List of postcodes\n",
    "postcodes = [\n",
    "    \"BT221EQ\", \"BT251GX\", \"BT808FR\", \"BT621DJ\", \"BT41NG\", \"BT667BP\", \"BT146DE\",\n",
    "    \"BT514NL\", \"BT86FZ\", \"BT522FS\", \"BT100AT\", \"BT670WU\", \"BT170WU\", \"BT413NE\",\n",
    "    \"BT667UT\", \"BT389NZ\", \"BT309PT\", \"BT365SZ\", \"BT87HN\", \"BT283WD\", \"BT601LU\",\n",
    "    \"BT557JG\", \"BT366PQ\", \"BT56HJ\", \"BT86HA\"\n",
    "]\n",
    "\n",
    "# Extract the outward part of each postcode\n",
    "outward_codes = [extract_outward_code(pc) for pc in postcodes]\n",
    "\n",
    "# Print the results\n",
    "for pc, outward_code in zip(postcodes, outward_codes):\n",
    "    print(f\"Postcode: {pc}, Outward Code: {outward_code}\")\n"
   ],
   "outputs": [
    {
     "name": "stdout",
     "output_type": "stream",
     "text": [
      "Postcode: BT221EQ, Outward Code: BT22\n",
      "Postcode: BT251GX, Outward Code: BT25\n",
      "Postcode: BT808FR, Outward Code: BT80\n",
      "Postcode: BT621DJ, Outward Code: BT62\n",
      "Postcode: BT41NG, Outward Code: BT41\n",
      "Postcode: BT667BP, Outward Code: BT66\n",
      "Postcode: BT146DE, Outward Code: BT14\n",
      "Postcode: BT514NL, Outward Code: BT51\n",
      "Postcode: BT86FZ, Outward Code: BT86\n",
      "Postcode: BT522FS, Outward Code: BT52\n",
      "Postcode: BT100AT, Outward Code: BT10\n",
      "Postcode: BT670WU, Outward Code: BT67\n",
      "Postcode: BT170WU, Outward Code: BT17\n",
      "Postcode: BT413NE, Outward Code: BT41\n",
      "Postcode: BT667UT, Outward Code: BT66\n",
      "Postcode: BT389NZ, Outward Code: BT38\n",
      "Postcode: BT309PT, Outward Code: BT30\n",
      "Postcode: BT365SZ, Outward Code: BT36\n",
      "Postcode: BT87HN, Outward Code: BT87\n",
      "Postcode: BT283WD, Outward Code: BT28\n",
      "Postcode: BT601LU, Outward Code: BT60\n",
      "Postcode: BT557JG, Outward Code: BT55\n",
      "Postcode: BT366PQ, Outward Code: BT36\n",
      "Postcode: BT56HJ, Outward Code: BT56\n",
      "Postcode: BT86HA, Outward Code: BT86\n"
     ]
    }
   ],
   "execution_count": 1
  },
  {
   "metadata": {},
   "cell_type": "code",
   "outputs": [],
   "execution_count": null,
   "source": "",
   "id": "b055cc605b1b3c7d"
  }
 ],
 "metadata": {
  "kernelspec": {
   "display_name": "Python 3",
   "language": "python",
   "name": "python3"
  },
  "language_info": {
   "codemirror_mode": {
    "name": "ipython",
    "version": 2
   },
   "file_extension": ".py",
   "mimetype": "text/x-python",
   "name": "python",
   "nbconvert_exporter": "python",
   "pygments_lexer": "ipython2",
   "version": "2.7.6"
  }
 },
 "nbformat": 4,
 "nbformat_minor": 5
}
